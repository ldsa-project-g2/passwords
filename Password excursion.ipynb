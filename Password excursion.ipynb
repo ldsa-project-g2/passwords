{
 "cells": [
  {
   "cell_type": "code",
   "execution_count": 1,
   "metadata": {},
   "outputs": [],
   "source": [
    "import findspark\n",
    "findspark.init()\n",
    "import pyspark\n",
    "from pyspark.sql import SparkSession, functions\n",
    "import pyspark.sql.types as spark_types\n",
    "import operator\n",
    "from collections import Counter\n",
    "import re\n",
    "import csv\n",
    "sc = pyspark.SparkContext(appName=\"Excursion\")"
   ]
  },
  {
   "cell_type": "code",
   "execution_count": 2,
   "metadata": {},
   "outputs": [],
   "source": [
    "def extract_password(uname_pwd):\n",
    "    try:\n",
    "        return uname_pwd.split(\":\")[1]\n",
    "    except IndexError:\n",
    "        return None\n",
    "    \n",
    "def is_ascii_128(password):\n",
    "    if not password or not password.strip():\n",
    "        return False\n",
    "    try:\n",
    "        password.encode().decode('ascii')\n",
    "    except UnicodeDecodeError:\n",
    "        return False\n",
    "    else:\n",
    "        return True\n",
    "\n",
    "# pws = sc.textFile(\"/Users/albin/Completed\\ torrents/BreachCompilation/data/*/*\").cache()\n",
    "rdd_pwd_cnt = sc.textFile('test_text.txt') \\\n",
    "                        .map(extract_password) \\\n",
    "                        .filter(is_ascii_128) \\\n",
    "                        .map(lambda w: (w, 1)) \\\n",
    "                        .reduceByKey(lambda tot, v: tot + v) \\\n",
    "                        .cache()"
   ]
  },
  {
   "cell_type": "markdown",
   "metadata": {},
   "source": [
    "The Password extractor should extract unique passwords with an associated password-count."
   ]
  },
  {
   "cell_type": "code",
   "execution_count": 3,
   "metadata": {},
   "outputs": [
    {
     "data": {
      "text/plain": [
       "[('password123$$', 1),\n",
       " ('^^^qwert123', 1),\n",
       " ('banana', 5),\n",
       " ('password1', 1),\n",
       " ('password\\\\1', 1),\n",
       " ('password123', 2),\n",
       " ('$$pass123%%', 1),\n",
       " ('876\\\\DSL', 1)]"
      ]
     },
     "execution_count": 3,
     "metadata": {},
     "output_type": "execute_result"
    }
   ],
   "source": [
    "rdd_pwd_cnt.take(20)"
   ]
  },
  {
   "cell_type": "code",
   "execution_count": 4,
   "metadata": {},
   "outputs": [],
   "source": [
    "# # # We consider ASCII-128 characters and symbols only..\n",
    "DIGITS = list('0123456789')\n",
    "ALPHAS = list('abcdefghijklmnopqrstuvwxyzABCDEFGHIJKLMNOPQRSTUVWXYZ')\n",
    "SPECIALS = list(' !\"#$%&\\'()*+,-./:;<=>?@[\\\\]^_`{|}~')\n",
    "PATTERN = r'[0-9]+|[a-zA-Z]+|[ !\"#$%&\\'()*+,-./:;<=>?@\\[\\]\\^_`{\\|}~\\\\\\\\]+'\n",
    "\n",
    "def get_base_structure_format(word, string_len=True):\n",
    "    # Copies main_script.py function \n",
    "    structures = re.findall(PATTERN, word)\n",
    "    base = '-'\n",
    "    for structure in structures:\n",
    "        if structure[0] in ALPHAS:\n",
    "            base += 'L'\n",
    "        elif structure[0] in DIGITS:\n",
    "            base += 'D'\n",
    "        else:\n",
    "            base += 'S'\n",
    "\n",
    "        if string_len:\n",
    "            base += str(len(structure)) + '-'\n",
    "        else:\n",
    "            base += '-'\n",
    "    return base\n",
    "\n",
    "rdd_base_struc_form = rdd_pwd_cnt.map(\n",
    "    lambda w: (get_base_structure_format(w[0], string_len=False), 1)) \\\n",
    "                                         .reduceByKey(lambda tot, v: tot + v) \\\n",
    "                                         .map(lambda w: (w[1], w[0])) \\\n",
    "                                         .sortByKey(ascending=False)"
   ]
  },
  {
   "cell_type": "markdown",
   "metadata": {},
   "source": [
    "Base structure analysis should yield a list of the most frequently occuring patterns"
   ]
  },
  {
   "cell_type": "code",
   "execution_count": 33,
   "metadata": {},
   "outputs": [
    {
     "data": {
      "text/plain": [
       "[(2, '-L-D-'),\n",
       " (1, '-L-D-S-'),\n",
       " (1, '-S-L-D-'),\n",
       " (1, '-L-'),\n",
       " (1, '-L-S-D-'),\n",
       " (1, '-S-L-D-S-'),\n",
       " (1, '-D-S-L-')]"
      ]
     },
     "execution_count": 33,
     "metadata": {},
     "output_type": "execute_result"
    }
   ],
   "source": [
    "rdd_base_struc_form.take(20)"
   ]
  },
  {
   "cell_type": "code",
   "execution_count": 34,
   "metadata": {},
   "outputs": [],
   "source": [
    "rdd_base_struc_form.map(lambda w: w[1] + ',' + str(w[0])).saveAsTextFile(\n",
    "            \"rdd_base_struc_form_123\")"
   ]
  },
  {
   "cell_type": "code",
   "execution_count": 6,
   "metadata": {},
   "outputs": [],
   "source": [
    "rdd_base_struc_form_cnt = rdd_pwd_cnt.map(\n",
    "    lambda w: (get_base_structure_format(w[0], string_len=False), w[1])) \\\n",
    "                                             .reduceByKey(lambda tot, v: tot + v) \\\n",
    "                                             .map(lambda w: (w[1], w[0])) \\\n",
    "                                             .sortByKey(ascending=False)"
   ]
  },
  {
   "cell_type": "markdown",
   "metadata": {},
   "source": [
    "Base styucture analysis when accounting for duplicate passwords should return higher counts"
   ]
  },
  {
   "cell_type": "code",
   "execution_count": 7,
   "metadata": {},
   "outputs": [
    {
     "data": {
      "text/plain": [
       "[(5, '-L-'),\n",
       " (3, '-L-D-'),\n",
       " (1, '-L-D-S-'),\n",
       " (1, '-S-L-D-'),\n",
       " (1, '-L-S-D-'),\n",
       " (1, '-S-L-D-S-'),\n",
       " (1, '-D-S-L-')]"
      ]
     },
     "execution_count": 7,
     "metadata": {},
     "output_type": "execute_result"
    }
   ],
   "source": [
    "rdd_base_struc_form_cnt.take(20)"
   ]
  },
  {
   "cell_type": "code",
   "execution_count": 8,
   "metadata": {},
   "outputs": [],
   "source": [
    "def get_base_structures(word_count, use_count=True):\n",
    "    # copies main_script.py\n",
    "    structures = re.findall(PATTERN, word_count[0])\n",
    "    if use_count:\n",
    "        count = word_count[1]\n",
    "    else:\n",
    "        count = 1\n",
    "    for structure in structures:\n",
    "        yield (structure, count)\n",
    "\n",
    "rdd_base_struc_data = rdd_pwd_cnt.flatMap(lambda w: get_base_structures(w, use_count=True)) \\\n",
    "                                 .reduceByKey(lambda tot, v: tot + v) \\\n",
    "                                 .cache()"
   ]
  },
  {
   "cell_type": "markdown",
   "metadata": {},
   "source": [
    "We show the decomposition of string types by frequency."
   ]
  },
  {
   "cell_type": "code",
   "execution_count": 10,
   "metadata": {},
   "outputs": [
    {
     "data": {
      "text/plain": [
       "[('password', 5),\n",
       " ('$$', 2),\n",
       " ('banana', 5),\n",
       " ('1', 2),\n",
       " ('pass', 1),\n",
       " ('%%', 1),\n",
       " ('DSL', 1),\n",
       " ('123', 5),\n",
       " ('^^^', 1),\n",
       " ('qwert', 1),\n",
       " ('\\\\', 2),\n",
       " ('876', 1)]"
      ]
     },
     "execution_count": 10,
     "metadata": {},
     "output_type": "execute_result"
    }
   ],
   "source": [
    "rdd_base_struc_data.take(20)"
   ]
  },
  {
   "cell_type": "code",
   "execution_count": 14,
   "metadata": {},
   "outputs": [
    {
     "name": "stdout",
     "output_type": "stream",
     "text": [
      "Analysing alpha\n",
      "password: 5\n",
      "banana: 5\n",
      "pass: 1\n",
      "DSL: 1\n",
      "qwert: 1\n",
      "Analysing digit\n",
      "123: 5\n",
      "1: 2\n",
      "876: 1\n",
      "Analysing special\n",
      "$$: 2\n",
      "\\: 2\n",
      "%%: 1\n",
      "^^^: 1\n"
     ]
    }
   ],
   "source": [
    "def structure_filter(structure, s_type):\n",
    "    # shadows main_script.py\n",
    "    if structure[0] in ALPHAS:\n",
    "        return s_type == 'alpha'\n",
    "    elif structure[0] in DIGITS:\n",
    "        return s_type == 'digit'\n",
    "    else:\n",
    "        return s_type == 'special'\n",
    "\n",
    "for s_type in ['alpha', 'digit', 'special']:\n",
    "    print('Analysing {}'.format(s_type))\n",
    "    rdd_filter = rdd_base_struc_data.filter(lambda w: structure_filter(w[0], s_type=s_type)).cache()\n",
    "    for k in rdd_filter.map(lambda w: (w[1], w[0])).sortByKey(ascending=False).take(20):\n",
    "        print('{}: {}'.format(k[1], k[0]))"
   ]
  },
  {
   "cell_type": "code",
   "execution_count": 24,
   "metadata": {},
   "outputs": [
    {
     "data": {
      "text/plain": [
       "[('$$', 2), ('%%', 1), ('^^^', 1), ('\\\\', 2)]"
      ]
     },
     "execution_count": 24,
     "metadata": {},
     "output_type": "execute_result"
    }
   ],
   "source": [
    "rdd_filter.take(10)"
   ]
  },
  {
   "cell_type": "code",
   "execution_count": 28,
   "metadata": {},
   "outputs": [],
   "source": [
    "rdd_filter.map(lambda w: w[0] + ',' + str(w[1])).saveAsTextFile('csv_out.csv')"
   ]
  },
  {
   "cell_type": "code",
   "execution_count": null,
   "metadata": {},
   "outputs": [],
   "source": []
  }
 ],
 "metadata": {
  "kernelspec": {
   "display_name": "Python 3",
   "language": "python",
   "name": "python3"
  },
  "language_info": {
   "codemirror_mode": {
    "name": "ipython",
    "version": 3
   },
   "file_extension": ".py",
   "mimetype": "text/x-python",
   "name": "python",
   "nbconvert_exporter": "python",
   "pygments_lexer": "ipython3",
   "version": "3.6.5"
  }
 },
 "nbformat": 4,
 "nbformat_minor": 2
}
